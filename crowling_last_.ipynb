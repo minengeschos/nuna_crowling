{
 "cells": [
  {
   "cell_type": "code",
   "execution_count": 1,
   "metadata": {},
   "outputs": [
    {
     "name": "stdout",
     "output_type": "stream",
     "text": [
      "Requirement already satisfied: selenium in c:\\users\\hyeon\\appdata\\local\\programs\\python\\python313\\lib\\site-packages (4.26.1)\n",
      "Requirement already satisfied: urllib3<3,>=1.26 in c:\\users\\hyeon\\appdata\\local\\programs\\python\\python313\\lib\\site-packages (from urllib3[socks]<3,>=1.26->selenium) (2.2.3)\n",
      "Requirement already satisfied: trio~=0.17 in c:\\users\\hyeon\\appdata\\local\\programs\\python\\python313\\lib\\site-packages (from selenium) (0.27.0)\n",
      "Requirement already satisfied: trio-websocket~=0.9 in c:\\users\\hyeon\\appdata\\local\\programs\\python\\python313\\lib\\site-packages (from selenium) (0.11.1)\n",
      "Requirement already satisfied: certifi>=2021.10.8 in c:\\users\\hyeon\\appdata\\local\\programs\\python\\python313\\lib\\site-packages (from selenium) (2024.8.30)\n",
      "Requirement already satisfied: typing_extensions~=4.9 in c:\\users\\hyeon\\appdata\\local\\programs\\python\\python313\\lib\\site-packages (from selenium) (4.12.2)\n",
      "Requirement already satisfied: websocket-client~=1.8 in c:\\users\\hyeon\\appdata\\local\\programs\\python\\python313\\lib\\site-packages (from selenium) (1.8.0)\n",
      "Requirement already satisfied: attrs>=23.2.0 in c:\\users\\hyeon\\appdata\\local\\programs\\python\\python313\\lib\\site-packages (from trio~=0.17->selenium) (24.2.0)\n",
      "Requirement already satisfied: sortedcontainers in c:\\users\\hyeon\\appdata\\local\\programs\\python\\python313\\lib\\site-packages (from trio~=0.17->selenium) (2.4.0)\n",
      "Requirement already satisfied: idna in c:\\users\\hyeon\\appdata\\local\\programs\\python\\python313\\lib\\site-packages (from trio~=0.17->selenium) (3.10)\n",
      "Requirement already satisfied: outcome in c:\\users\\hyeon\\appdata\\local\\programs\\python\\python313\\lib\\site-packages (from trio~=0.17->selenium) (1.3.0.post0)\n",
      "Requirement already satisfied: sniffio>=1.3.0 in c:\\users\\hyeon\\appdata\\local\\programs\\python\\python313\\lib\\site-packages (from trio~=0.17->selenium) (1.3.1)\n",
      "Requirement already satisfied: cffi>=1.14 in c:\\users\\hyeon\\appdata\\local\\programs\\python\\python313\\lib\\site-packages (from trio~=0.17->selenium) (1.17.1)\n",
      "Requirement already satisfied: wsproto>=0.14 in c:\\users\\hyeon\\appdata\\local\\programs\\python\\python313\\lib\\site-packages (from trio-websocket~=0.9->selenium) (1.2.0)\n",
      "Requirement already satisfied: pysocks!=1.5.7,<2.0,>=1.5.6 in c:\\users\\hyeon\\appdata\\local\\programs\\python\\python313\\lib\\site-packages (from urllib3[socks]<3,>=1.26->selenium) (1.7.1)\n",
      "Requirement already satisfied: pycparser in c:\\users\\hyeon\\appdata\\local\\programs\\python\\python313\\lib\\site-packages (from cffi>=1.14->trio~=0.17->selenium) (2.22)\n",
      "Requirement already satisfied: h11<1,>=0.9.0 in c:\\users\\hyeon\\appdata\\local\\programs\\python\\python313\\lib\\site-packages (from wsproto>=0.14->trio-websocket~=0.9->selenium) (0.14.0)\n",
      "Note: you may need to restart the kernel to use updated packages.\n"
     ]
    },
    {
     "name": "stderr",
     "output_type": "stream",
     "text": [
      "\n",
      "[notice] A new release of pip is available: 24.2 -> 24.3.1\n",
      "[notice] To update, run: python.exe -m pip install --upgrade pip\n"
     ]
    }
   ],
   "source": [
    "pip install selenium"
   ]
  },
  {
   "cell_type": "code",
   "execution_count": 2,
   "metadata": {},
   "outputs": [
    {
     "name": "stdout",
     "output_type": "stream",
     "text": [
      "Requirement already satisfied: requests in c:\\users\\hyeon\\appdata\\local\\programs\\python\\python313\\lib\\site-packages (2.32.3)Note: you may need to restart the kernel to use updated packages.\n"
     ]
    },
    {
     "name": "stderr",
     "output_type": "stream",
     "text": [
      "\n",
      "[notice] A new release of pip is available: 24.2 -> 24.3.1\n",
      "[notice] To update, run: python.exe -m pip install --upgrade pip\n"
     ]
    },
    {
     "name": "stdout",
     "output_type": "stream",
     "text": [
      "\n",
      "Requirement already satisfied: charset-normalizer<4,>=2 in c:\\users\\hyeon\\appdata\\local\\programs\\python\\python313\\lib\\site-packages (from requests) (3.4.0)\n",
      "Requirement already satisfied: idna<4,>=2.5 in c:\\users\\hyeon\\appdata\\local\\programs\\python\\python313\\lib\\site-packages (from requests) (3.10)\n",
      "Requirement already satisfied: urllib3<3,>=1.21.1 in c:\\users\\hyeon\\appdata\\local\\programs\\python\\python313\\lib\\site-packages (from requests) (2.2.3)\n",
      "Requirement already satisfied: certifi>=2017.4.17 in c:\\users\\hyeon\\appdata\\local\\programs\\python\\python313\\lib\\site-packages (from requests) (2024.8.30)\n"
     ]
    }
   ],
   "source": [
    "pip install requests"
   ]
  },
  {
   "cell_type": "code",
   "execution_count": 3,
   "metadata": {},
   "outputs": [
    {
     "name": "stdout",
     "output_type": "stream",
     "text": [
      "Requirement already satisfied: beautifulsoup4 in c:\\users\\hyeon\\appdata\\local\\programs\\python\\python313\\lib\\site-packages (4.12.3)\n",
      "Requirement already satisfied: soupsieve>1.2 in c:\\users\\hyeon\\appdata\\local\\programs\\python\\python313\\lib\\site-packages (from beautifulsoup4) (2.6)\n",
      "Note: you may need to restart the kernel to use updated packages.\n"
     ]
    },
    {
     "name": "stderr",
     "output_type": "stream",
     "text": [
      "\n",
      "[notice] A new release of pip is available: 24.2 -> 24.3.1\n",
      "[notice] To update, run: python.exe -m pip install --upgrade pip\n"
     ]
    }
   ],
   "source": [
    "pip install beautifulsoup4"
   ]
  },
  {
   "cell_type": "code",
   "execution_count": 4,
   "metadata": {},
   "outputs": [
    {
     "name": "stdout",
     "output_type": "stream",
     "text": [
      "Requirement already satisfied: pandas in c:\\users\\hyeon\\appdata\\local\\programs\\python\\python313\\lib\\site-packages (2.2.3)\n",
      "Requirement already satisfied: numpy>=1.26.0 in c:\\users\\hyeon\\appdata\\local\\programs\\python\\python313\\lib\\site-packages (from pandas) (2.1.3)\n",
      "Requirement already satisfied: python-dateutil>=2.8.2 in c:\\users\\hyeon\\appdata\\roaming\\python\\python313\\site-packages (from pandas) (2.9.0.post0)\n",
      "Requirement already satisfied: pytz>=2020.1 in c:\\users\\hyeon\\appdata\\local\\programs\\python\\python313\\lib\\site-packages (from pandas) (2024.2)\n",
      "Requirement already satisfied: tzdata>=2022.7 in c:\\users\\hyeon\\appdata\\local\\programs\\python\\python313\\lib\\site-packages (from pandas) (2024.2)\n",
      "Requirement already satisfied: six>=1.5 in c:\\users\\hyeon\\appdata\\roaming\\python\\python313\\site-packages (from python-dateutil>=2.8.2->pandas) (1.16.0)\n",
      "Note: you may need to restart the kernel to use updated packages.\n"
     ]
    },
    {
     "name": "stderr",
     "output_type": "stream",
     "text": [
      "\n",
      "[notice] A new release of pip is available: 24.2 -> 24.3.1\n",
      "[notice] To update, run: python.exe -m pip install --upgrade pip\n"
     ]
    }
   ],
   "source": [
    "pip install pandas"
   ]
  },
  {
   "cell_type": "code",
   "execution_count": 7,
   "metadata": {},
   "outputs": [],
   "source": [
    "from selenium import webdriver\n",
    "from selenium.webdriver.common.keys import Keys\n",
    "from selenium.webdriver.common.by import By\n",
    "from selenium.webdriver.support.ui import WebDriverWait\n",
    "from selenium.webdriver.support import expected_conditions as EC\n",
    "import time\n",
    "import pandas as pd\n",
    "\n",
    "# 크롬 드라이버 설정 (경로 없이)\n",
    "driver = webdriver.Chrome()\n",
    "\n",
    "# 인스타그램 접속\n",
    "driver.get('https://www.instagram.com/accounts/login/')\n",
    "time.sleep(2)\n",
    "\n",
    "# 로그인 정보 입력\n",
    "username = driver.find_element(By.NAME, 'username')\n",
    "password = driver.find_element(By.NAME, 'password')\n",
    "\n",
    "username.send_keys('hyeony10316@gmail.com')\n",
    "password.send_keys('Kv0797056!@#')\n",
    "password.send_keys(Keys.RETURN)\n",
    "time.sleep(5)\n",
    "\n",
    "# 원하는 태그 페이지로 이동\n",
    "def insta_searching(word):\n",
    "    url = 'https://www.instagram.com/explore/tags/' + word\n",
    "    return url\n",
    "\n",
    "word = '韓国コスメ'\n",
    "url = insta_searching(word)\n",
    "driver.get(url)\n",
    "time.sleep(4)\n"
   ]
  },
  {
   "cell_type": "code",
   "execution_count": null,
   "metadata": {},
   "outputs": [],
   "source": [
    "\n",
    "# 사용자 정보를 가져오는 함수\n",
    "def get_user_info(driver):\n",
    "    user_profile = driver.find_element(By.CSS_SELECTOR, '.x1i10hfl.xjbqb8w.x1ejq31n.xd10rxx.x1sy0etr.x17r0tee.x972fbf.xcfux6l.x1qhh985'\n",
    "                                                   '.xm0m39n.x9f619.x1ypdohk.xt0psk2.xe8uvvx.xdj266r.x11i5rnm.xat24cr.x1mh8g0r.xexx8yu'\n",
    "                                                   '.x4uap5.x18d9i69.xkhd6sd.x16tdsg8.x1hl2dhg.xggy1nq.x1a2a7pz._acan._acao._acat'\n",
    "                                                   '._acaw._aj1-._ap30._a6hd')\n",
    "    user_profile.click()\n",
    "    time.sleep(5)\n",
    "\n",
    "    username_element = driver.find_element(By.XPATH, '//*[contains(@class, \"x1lliihq x193iq5w x6ikm8r x10wlt62 xlyipyv xuxw1ft\")]')\n",
    "    posts = driver.find_elements(By.XPATH, '//*[contains(@class, \"xdj266r x11i5rnm xat24cr x1mh8g0r xexx8yu x4uap5 x18d9i69 xkhd6sd x1hl2dhg x16tdsg8 x1vvkbs\")]')\n",
    "    followers = driver.find_elements(By.XPATH, '//*[contains(@class, \"xdj266r x11i5rnm xat24cr x1mh8g0r xexx8yu x4uap5 x18d9i69 xkhd6sd x1hl2dhg x16tdsg8 x1vvkbs\")]')[1]  # 두 번째 요소 선택\n",
    "\n",
    "    return username_element.text, posts[0].text, followers.text\n",
    "\n",
    "# 유저 정보를 저장할 리스트\n",
    "user_data = []\n",
    "\n",
    "# 첫 번째 게시글 선택 및 반복문을 통해 다음 게시물 선택\n",
    "for i in range(10):  # 예시로 10개의 게시물을 가져옴. 원하는 만큼 조절 가능.\n",
    "    if i == 0:\n",
    "        # 첫 번째 게시물 선택\n",
    "        first = driver.find_element(By.CSS_SELECTOR, \".x78zum5\")\n",
    "        first.click()\n",
    "        time.sleep(3)\n",
    "    else:\n",
    "        # 뒤로 가기\n",
    "        driver.execute_script(\"window.history.go(-1)\")\n",
    "        time.sleep(3)\n",
    "\n",
    "        # 게시물 선택\n",
    "        posts = driver.find_elements(By.CSS_SELECTOR, \"._aagw\")\n",
    "        if i < len(posts):\n",
    "            posts[i].click()\n",
    "            time.sleep(3)\n",
    "        else:\n",
    "            print(\"더 이상 게시물이 없습니다.\")\n",
    "            break\n",
    "\n",
    "    # 사용자 정보 가져오기\n",
    "    username, posts_text, followers = get_user_info(driver)\n",
    "    print(f\"Username: {username}\")\n",
    "    print(f\"Posts: {posts_text}\")\n",
    "    print(f\"Followers: {followers}\")\n",
    "\n",
    "    # 유저 정보를 리스트에 추가\n",
    "    user_data.append({\"Username\": username, \"Posts\": posts_text, \"Followers\": followers})\n",
    "\n",
    "    # 뒤로 가기 추가\n",
    "    driver.execute_script(\"window.history.go(-1)\")\n",
    "    time.sleep(3)\n",
    "\n",
    "# 데이터프레임 생성 및 엑셀 파일로 저장\n",
    "df = pd.DataFrame(user_data)\n",
    "df.to_excel('instagram_data.xlsx', index=False)\n",
    "\n",
    "# 드라이버 종료\n",
    "driver.quit()\n"
   ]
  }
 ],
 "metadata": {
  "kernelspec": {
   "display_name": "Python 3",
   "language": "python",
   "name": "python3"
  },
  "language_info": {
   "codemirror_mode": {
    "name": "ipython",
    "version": 3
   },
   "file_extension": ".py",
   "mimetype": "text/x-python",
   "name": "python",
   "nbconvert_exporter": "python",
   "pygments_lexer": "ipython3",
   "version": "3.13.0"
  }
 },
 "nbformat": 4,
 "nbformat_minor": 2
}
